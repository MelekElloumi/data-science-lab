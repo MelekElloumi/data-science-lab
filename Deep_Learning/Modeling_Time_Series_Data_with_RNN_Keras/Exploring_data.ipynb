{
 "cells": [
  {
   "cell_type": "code",
   "execution_count": null,
   "metadata": {
    "collapsed": true,
    "pycharm": {
     "name": "#%%\n"
    }
   },
   "outputs": [],
   "source": [
    "import os\n",
    "import numpy as np\n",
    "import pandas as pd\n",
    "import matplotlib.pyplot as plt\n",
    "import random\n",
    "\n",
    "# Configure the notebook to display plots\n",
    "%matplotlib inline\n",
    "\n",
    "# Define the path to the data folder\n",
    "data_dir = '/dli/task/data/hx_series'"
   ]
  },
  {
   "cell_type": "code",
   "execution_count": null,
   "outputs": [],
   "source": [
    "# training data inputs: x and targets: y\n",
    "x_train_path = os.path.join(data_dir, 'X_train.hdf')\n",
    "y_train_path = os.path.join(data_dir, 'y_train.hdf')\n",
    "\n",
    "# validation data inputs: x and targest: y\n",
    "x_valid_path = os.path.join(data_dir, 'X_test.hdf')\n",
    "y_valid_path = os.path.join(data_dir, 'y_test.hdf')"
   ],
   "metadata": {
    "collapsed": false,
    "pycharm": {
     "name": "#%%\n"
    }
   }
  },
  {
   "cell_type": "code",
   "execution_count": null,
   "outputs": [],
   "source": [
    "# It should take less than one minute to load the files\n",
    "X_train = pd.read_hdf(x_train_path)\n",
    "y_train = pd.read_hdf(y_train_path)\n",
    "X_valid = pd.read_hdf(x_valid_path)\n",
    "y_valid = pd.read_hdf(y_valid_path)\n",
    "print('data load complete')"
   ],
   "metadata": {
    "collapsed": false,
    "pycharm": {
     "name": "#%%\n"
    }
   }
  },
  {
   "cell_type": "code",
   "execution_count": null,
   "outputs": [],
   "source": [
    "# Select a random patient encounterID from a list of all the encounterID values\n",
    "eIdx = random.choice(list(X_train.index.levels[0]))\n",
    "\n",
    "# Specify a few variables to look at\n",
    "variables = [\n",
    "    'Age','Heart rate (bpm)','PulseOximetry','Weight',\n",
    "    'SystolicBP','DiastolicBP','Respiratory rate (bpm)',\n",
    "    'MotorResponse','Capillary refill rate (sec)'\n",
    "]\n",
    "\n",
    "# Note that the full list of variables can be constructed using\n",
    "# list(X_train.columns.values)\n",
    "\n",
    "# Have a look at the variables for the selected patient\n",
    "print('encounterID = {}'.format(eIdx))\n",
    "print('number of observations = {}'.format(X_train.loc[eIdx].index.shape[0]))\n",
    "print('max absoluteTime value = {} hours'.format(X_train.loc[eIdx].index[-1]))\n",
    "X_train.loc[eIdx, variables]"
   ],
   "metadata": {
    "collapsed": false,
    "pycharm": {
     "name": "#%%\n"
    }
   }
  },
  {
   "cell_type": "code",
   "execution_count": null,
   "outputs": [],
   "source": [
    "# Save the DataFrame's for use in other notebooks\n",
    "X_train.to_pickle('X_train.pkl')\n",
    "y_train.to_pickle('y_train.pkl')\n",
    "X_valid.to_pickle('X_valid.pkl')\n",
    "y_valid.to_pickle('y_valid.pkl')"
   ],
   "metadata": {
    "collapsed": false,
    "pycharm": {
     "name": "#%%\n"
    }
   }
  }
 ],
 "metadata": {
  "kernelspec": {
   "display_name": "Python 3",
   "language": "python",
   "name": "python3"
  },
  "language_info": {
   "codemirror_mode": {
    "name": "ipython",
    "version": 2
   },
   "file_extension": ".py",
   "mimetype": "text/x-python",
   "name": "python",
   "nbconvert_exporter": "python",
   "pygments_lexer": "ipython2",
   "version": "2.7.6"
  }
 },
 "nbformat": 4,
 "nbformat_minor": 0
}