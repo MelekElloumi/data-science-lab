{
 "cells": [
  {
   "cell_type": "code",
   "execution_count": null,
   "outputs": [],
   "source": [
    "from sklearn.linear_model import LinearRegression\n",
    "\n",
    "df = average_sales.to_frame()\n",
    "\n",
    "# YOUR CODE HERE: Create a time dummy\n",
    "time = np.arange(len(df.index))  # time dummy\n",
    "\n",
    "df['time'] = time\n",
    "\n",
    "# YOUR CODE HERE: Create training data\n",
    "X = df.loc[:, ['time']]  # features\n",
    "y = df.loc[:, 'sales']  # target\n",
    "\n",
    "# Train the model\n",
    "model = LinearRegression()\n",
    "model.fit(X, y)\n",
    "\n",
    "# Store the fitted values as a time series with the same time index as\n",
    "# the training data\n",
    "y_pred = pd.Series(model.predict(X), index=X.index)"
   ],
   "metadata": {
    "collapsed": false,
    "pycharm": {
     "name": "#%%\n"
    }
   }
  },
  {
   "cell_type": "code",
   "execution_count": null,
   "outputs": [],
   "source": [
    "lag_1 = df['sales'].shift(1)\n",
    "\n",
    "df['lag_1'] = lag_1  # add to dataframe\n",
    "\n",
    "X = df.loc[:, ['lag_1']].dropna()  # features\n",
    "y = df.loc[:, 'sales']  # target\n",
    "y, X = y.align(X, join='inner')"
   ],
   "metadata": {
    "collapsed": false,
    "pycharm": {
     "name": "#%%\n"
    }
   }
  },
  {
   "cell_type": "code",
   "execution_count": null,
   "outputs": [],
   "source": [],
   "metadata": {
    "collapsed": false,
    "pycharm": {
     "name": "#%%\n"
    }
   }
  },
  {
   "cell_type": "code",
   "execution_count": null,
   "outputs": [],
   "source": [
    "trend = food_sales.rolling(\n",
    "    window=12,\n",
    "    center=True,\n",
    "    min_periods=6,\n",
    ").mean()"
   ],
   "metadata": {
    "collapsed": false,
    "pycharm": {
     "name": "#%%\n"
    }
   }
  },
  {
   "cell_type": "code",
   "execution_count": null,
   "outputs": [],
   "source": [
    "from statsmodels.tsa.deterministic import DeterministicProcess\n",
    "\n",
    "y = average_sales.copy()  # the target\n",
    "dp = DeterministicProcess(index=y.index, order=3)\n",
    "X = dp.in_sample()\n",
    "X_fore = dp.out_of_sample(steps=90)"
   ],
   "metadata": {
    "collapsed": false,
    "pycharm": {
     "name": "#%%\n"
    }
   }
  },
  {
   "cell_type": "code",
   "execution_count": null,
   "outputs": [],
   "source": [],
   "metadata": {
    "collapsed": false,
    "pycharm": {
     "name": "#%%\n"
    }
   }
  },
  {
   "cell_type": "code",
   "execution_count": null,
   "outputs": [],
   "source": [
    "from statsmodels.tsa.deterministic import CalendarFourier, DeterministicProcess\n",
    "\n",
    "fourier = CalendarFourier(freq=\"M\", order=4)  # 10 sin/cos pairs for \"A\"nnual seasonality\n",
    "dp = DeterministicProcess(\n",
    "    index=y.index,\n",
    "    constant=True,\n",
    "    order=1,\n",
    "    seasonal=True,\n",
    "    additional_terms=[fourier],\n",
    "    drop=True,\n",
    ")\n",
    "X = dp.in_sample()"
   ],
   "metadata": {
    "collapsed": false,
    "pycharm": {
     "name": "#%%\n"
    }
   }
  },
  {
   "cell_type": "code",
   "execution_count": null,
   "outputs": [],
   "source": [],
   "metadata": {
    "collapsed": false,
    "pycharm": {
     "name": "#%%\n"
    }
   }
  },
  {
   "cell_type": "code",
   "execution_count": null,
   "outputs": [],
   "source": [
    "class BoostedHybrid:\n",
    "    def __init__(self, model_1, model_2):\n",
    "        self.model_1 = model_1\n",
    "        self.model_2 = model_2\n",
    "        self.y_columns = None\n",
    "\n",
    "def fit(self, X_1, X_2, y):\n",
    "    # Train model_1\n",
    "    self.model_1.fit(X_1, y)\n",
    "\n",
    "    # Make predictions\n",
    "    y_fit = pd.DataFrame(\n",
    "        self.model_1.predict(X_1),\n",
    "        index=X_1.index, columns=y.columns,\n",
    "    )\n",
    "\n",
    "    # Compute residuals\n",
    "    y_resid = y - y_fit\n",
    "    y_resid = y_resid.stack().squeeze() # wide to long\n",
    "\n",
    "    # Train model_2 on residuals\n",
    "    self.model_2.fit(X_2, y_resid)\n",
    "\n",
    "    # Save column names for predict method\n",
    "    self.y_columns = y.columns\n",
    "    # Save data for question checking\n",
    "    self.y_fit = y_fit\n",
    "    self.y_resid = y_resid\n",
    "\n",
    "\n",
    "# Add method to class\n",
    "BoostedHybrid.fit = fit\n",
    "\n",
    "def predict(self, X_1, X_2):\n",
    "    # Predict with model_1\n",
    "    y_pred = pd.DataFrame(\n",
    "        self.model_1.predict(X_1),\n",
    "        index=X_1.index, columns=self.y_columns,\n",
    "    )\n",
    "    y_pred = y_pred.stack().squeeze()  # wide to long\n",
    "\n",
    "    # Add model_2 predictions to model_1 predictions\n",
    "    y_pred += self.model_2.predict(X_2)\n",
    "\n",
    "    return y_pred.unstack()\n",
    "\n",
    "\n",
    "# Add method to class\n",
    "BoostedHybrid.predict = predict"
   ],
   "metadata": {
    "collapsed": false,
    "pycharm": {
     "name": "#%%\n"
    }
   }
  },
  {
   "cell_type": "code",
   "execution_count": null,
   "outputs": [],
   "source": [
    "model = BoostedHybrid(\n",
    "    model_1=LinearRegression(),\n",
    "    model_2=XGBRegressor(),\n",
    ")\n",
    "model.fit(X_1, X_2, y)\n",
    "\n",
    "y_pred = model.predict(X_1, X_2)\n",
    "y_pred = y_pred.clip(0.0)"
   ],
   "metadata": {
    "collapsed": false,
    "pycharm": {
     "name": "#%%\n"
    }
   }
  }
 ],
 "metadata": {
  "kernelspec": {
   "display_name": "Python 3",
   "language": "python",
   "name": "python3"
  },
  "language_info": {
   "codemirror_mode": {
    "name": "ipython",
    "version": 2
   },
   "file_extension": ".py",
   "mimetype": "text/x-python",
   "name": "python",
   "nbconvert_exporter": "python",
   "pygments_lexer": "ipython2",
   "version": "2.7.6"
  }
 },
 "nbformat": 4,
 "nbformat_minor": 0
}